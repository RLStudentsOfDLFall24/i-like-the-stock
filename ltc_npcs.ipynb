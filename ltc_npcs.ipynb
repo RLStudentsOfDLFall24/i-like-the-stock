{
 "cells": [
  {
   "cell_type": "code",
   "execution_count": 120,
   "metadata": {},
   "outputs": [],
   "source": [
    "from src.dataset._dataset_utils import create_datasets\n",
    "\n",
    "\n",
    "ds_names = ['atnf', 'biaf', 'bivi', 'cycc', 'vtak']\n",
    "\n",
    "SEQ_LEN = 30\n",
    "LOG_SPLITS = False\n",
    "FIXED_SCALING = [(7, 3000.), (8, 12.), (9, 31.)]\n",
    "ROOT = './data/clean'\n",
    "\n",
    "datasets = { x: create_datasets(x, ROOT, FIXED_SCALING, LOG_SPLITS) for x in ds_names }"
   ]
  },
  {
   "cell_type": "code",
   "execution_count": 121,
   "metadata": {},
   "outputs": [
    {
     "name": "stdout",
     "output_type": "stream",
     "text": [
      "cuda\n"
     ]
    }
   ],
   "source": [
    "import torch\n",
    "\n",
    "device = torch.device('cuda' if torch.cuda.is_available() else 'cpu')\n",
    "print(device)"
   ]
  },
  {
   "cell_type": "code",
   "execution_count": 122,
   "metadata": {},
   "outputs": [
    {
     "name": "stdout",
     "output_type": "stream",
     "text": [
      "torch.Size([10, 22])\n"
     ]
    }
   ],
   "source": [
    "LR = 1e-2\n",
    "BETAS = (0.9, 0.999)\n",
    "EPS = 1e-7\n",
    "WEIGHT_DECAY=1e-5\n",
    "\n",
    "GAMMA = 0.1\n",
    "STEP_SIZE = 0.1\n",
    "MILESTONES = [5, 10, 15]\n",
    "MIN_LR = 1e-5\n",
    "CRITERION_GAMMA=2.0\n",
    "CRITERION_BETA=0.99\n",
    "\n",
    "OPTIMIZER = 'adam' # 'adam' or 'sgd'\n",
    "SCHEDULER = 'step' # 'plateau', 'step', or 'multi'\n",
    "CRITERION = 'cb_focal'   # 'ce' or 'cb_focal'\n",
    "\n",
    "BATCH_SIZE = 16\n",
    "HIDDEN_SIZE = 32\n",
    "\n",
    "EPOCHS = 40\n",
    "\n",
    "data='atnf'\n",
    "\n",
    "print(datasets[data][0][0][0].shape)\n",
    "\n",
    "input_size = datasets[data][0][0][0].shape[1]\n",
    "train_label_ct = datasets[data][0].target_counts\n"
   ]
  },
  {
   "cell_type": "code",
   "execution_count": 123,
   "metadata": {},
   "outputs": [
    {
     "name": "stdout",
     "output_type": "stream",
     "text": [
      "The autoreload extension is already loaded. To reload it, use:\n",
      "  %reload_ext autoreload\n"
     ]
    }
   ],
   "source": [
    "%load_ext autoreload\n",
    "%autoreload 2\n",
    "\n",
    "from torch.utils.data import DataLoader\n",
    "\n",
    "\n",
    "ds_train, ds_valid, ds_test = datasets[data]\n",
    "\n",
    "train_loader, valid_loader, test_loader = DataLoader(ds_train, batch_size=BATCH_SIZE, shuffle=True), DataLoader(ds_valid, batch_size=BATCH_SIZE, shuffle=False), DataLoader(ds_test, batch_size=BATCH_SIZE, shuffle=False)"
   ]
  },
  {
   "cell_type": "code",
   "execution_count": null,
   "metadata": {},
   "outputs": [
    {
     "name": "stdout",
     "output_type": "stream",
     "text": [
      "E: 1 | Train: 0.3622 | Valid 0.3533 | V_Pred Dist: C0 0.107 - C1 0.000 - C2 0.893\n",
      "E: 2 | Train: 0.3596 | Valid 0.3536 | V_Pred Dist: C0 1.000 - C1 0.000 - C2 0.000\n",
      "E: 3 | Train: 0.3582 | Valid 0.3545 | V_Pred Dist: C0 1.000 - C1 0.000 - C2 0.000\n",
      "E: 4 | Train: 0.3503 | Valid 0.3552 | V_Pred Dist: C0 1.000 - C1 0.000 - C2 0.000\n",
      "E: 5 | Train: 0.3541 | Valid 0.3564 | V_Pred Dist: C0 1.000 - C1 0.000 - C2 0.000\n",
      "E: 6 | Train: 0.3522 | Valid 0.3519 | V_Pred Dist: C0 0.738 - C1 0.000 - C2 0.262\n",
      "E: 7 | Train: 0.3500 | Valid 0.3510 | V_Pred Dist: C0 1.000 - C1 0.000 - C2 0.000\n",
      "E: 8 | Train: 0.3531 | Valid 0.3527 | V_Pred Dist: C0 1.000 - C1 0.000 - C2 0.000\n",
      "E: 9 | Train: 0.3482 | Valid 0.3528 | V_Pred Dist: C0 1.000 - C1 0.000 - C2 0.000\n",
      "E: 10 | Train: 0.3473 | Valid 0.3487 | V_Pred Dist: C0 1.000 - C1 0.000 - C2 0.000\n",
      "E: 11 | Train: 0.3504 | Valid 0.3472 | V_Pred Dist: C0 1.000 - C1 0.000 - C2 0.000\n",
      "E: 12 | Train: 0.3492 | Valid 0.3458 | V_Pred Dist: C0 0.000 - C1 0.000 - C2 1.000\n",
      "E: 13 | Train: 0.3473 | Valid 0.3459 | V_Pred Dist: C0 1.000 - C1 0.000 - C2 0.000\n",
      "E: 14 | Train: 0.3482 | Valid 0.3495 | V_Pred Dist: C0 1.000 - C1 0.000 - C2 0.000\n",
      "E: 15 | Train: 0.3540 | Valid 0.3447 | V_Pred Dist: C0 1.000 - C1 0.000 - C2 0.000\n",
      "E: 16 | Train: 0.3495 | Valid 0.3489 | V_Pred Dist: C0 1.000 - C1 0.000 - C2 0.000\n",
      "E: 17 | Train: 0.3468 | Valid 0.3447 | V_Pred Dist: C0 1.000 - C1 0.000 - C2 0.000\n",
      "E: 18 | Train: 0.3477 | Valid 0.3427 | V_Pred Dist: C0 1.000 - C1 0.000 - C2 0.000\n",
      "E: 19 | Train: 0.3461 | Valid 0.3436 | V_Pred Dist: C0 1.000 - C1 0.000 - C2 0.000\n",
      "E: 20 | Train: 0.3459 | Valid 0.3397 | V_Pred Dist: C0 1.000 - C1 0.000 - C2 0.000\n",
      "E: 21 | Train: 0.3457 | Valid 0.3390 | V_Pred Dist: C0 1.000 - C1 0.000 - C2 0.000\n",
      "E: 22 | Train: 0.3492 | Valid 0.3389 | V_Pred Dist: C0 1.000 - C1 0.000 - C2 0.000\n",
      "E: 23 | Train: 0.3467 | Valid 0.3377 | V_Pred Dist: C0 1.000 - C1 0.000 - C2 0.000\n",
      "E: 24 | Train: 0.3463 | Valid 0.3443 | V_Pred Dist: C0 1.000 - C1 0.000 - C2 0.000\n",
      "E: 25 | Train: 0.3424 | Valid 0.3421 | V_Pred Dist: C0 1.000 - C1 0.000 - C2 0.000\n",
      "E: 26 | Train: 0.3452 | Valid 0.3385 | V_Pred Dist: C0 1.000 - C1 0.000 - C2 0.000\n",
      "E: 27 | Train: 0.3430 | Valid 0.3365 | V_Pred Dist: C0 1.000 - C1 0.000 - C2 0.000\n",
      "E: 28 | Train: 0.3423 | Valid 0.3366 | V_Pred Dist: C0 1.000 - C1 0.000 - C2 0.000\n"
     ]
    },
    {
     "ename": "KeyboardInterrupt",
     "evalue": "",
     "output_type": "error",
     "traceback": [
      "\u001b[1;31m---------------------------------------------------------------------------\u001b[0m",
      "\u001b[1;31mKeyboardInterrupt\u001b[0m                         Traceback (most recent call last)",
      "Cell \u001b[1;32mIn[124], line 19\u001b[0m\n\u001b[0;32m     15\u001b[0m criterion \u001b[38;5;241m=\u001b[39m get_criterion(CRITERION, train_label_ct, {\u001b[38;5;124m'\u001b[39m\u001b[38;5;124mcbf_gamma\u001b[39m\u001b[38;5;124m'\u001b[39m: CRITERION_GAMMA, \u001b[38;5;124m'\u001b[39m\u001b[38;5;124mcbf_beta\u001b[39m\u001b[38;5;124m'\u001b[39m: CRITERION_BETA}, device)\n\u001b[0;32m     18\u001b[0m \u001b[38;5;28;01mfor\u001b[39;00m epoch \u001b[38;5;129;01min\u001b[39;00m \u001b[38;5;28mrange\u001b[39m(EPOCHS):\n\u001b[1;32m---> 19\u001b[0m   train_loss, train_loss_avg \u001b[38;5;241m=\u001b[39m \u001b[43mtrain\u001b[49m\u001b[43m(\u001b[49m\u001b[43mltc\u001b[49m\u001b[43m,\u001b[49m\u001b[43m \u001b[49m\u001b[43mtrain_loader\u001b[49m\u001b[43m,\u001b[49m\u001b[43m \u001b[49m\u001b[43moptimizer\u001b[49m\u001b[43m,\u001b[49m\u001b[43m \u001b[49m\u001b[43mcriterion\u001b[49m\u001b[43m,\u001b[49m\u001b[43m \u001b[49m\u001b[43mdevice\u001b[49m\u001b[43m,\u001b[49m\u001b[43m \u001b[49m\u001b[43mepoch\u001b[49m\u001b[43m,\u001b[49m\u001b[43m \u001b[49m\u001b[43mwriter\u001b[49m\u001b[38;5;241;43m=\u001b[39;49m\u001b[43mwriter\u001b[49m\u001b[43m)\u001b[49m\n\u001b[0;32m     20\u001b[0m   \u001b[38;5;66;03m#scheduler.step(train_loss)\u001b[39;00m\n\u001b[0;32m     21\u001b[0m   scheduler\u001b[38;5;241m.\u001b[39mstep()\n",
      "File \u001b[1;32md:\\Code\\GATech\\CS7643\\i-like-the-stock\\training_tools\\train.py:48\u001b[0m, in \u001b[0;36mtrain\u001b[1;34m(model, dataloader, optimizer, criterion, device, epoch, writer)\u001b[0m\n\u001b[0;32m     44\u001b[0m     logits \u001b[38;5;241m=\u001b[39m logits\u001b[38;5;241m.\u001b[39munsqueeze(\u001b[38;5;241m0\u001b[39m)\n\u001b[0;32m     46\u001b[0m loss \u001b[38;5;241m=\u001b[39m criterion(logits, y)\n\u001b[1;32m---> 48\u001b[0m \u001b[43mloss\u001b[49m\u001b[38;5;241;43m.\u001b[39;49m\u001b[43mbackward\u001b[49m\u001b[43m(\u001b[49m\u001b[43m)\u001b[49m\n\u001b[0;32m     49\u001b[0m th\u001b[38;5;241m.\u001b[39mnn\u001b[38;5;241m.\u001b[39mutils\u001b[38;5;241m.\u001b[39mclip_grad_norm_(model\u001b[38;5;241m.\u001b[39mparameters(), \u001b[38;5;241m1.0\u001b[39m)\n\u001b[0;32m     50\u001b[0m optimizer\u001b[38;5;241m.\u001b[39mstep()\n",
      "File \u001b[1;32mc:\\Users\\killy\\.conda\\envs\\dl-group-project\\Lib\\site-packages\\torch\\_tensor.py:581\u001b[0m, in \u001b[0;36mTensor.backward\u001b[1;34m(self, gradient, retain_graph, create_graph, inputs)\u001b[0m\n\u001b[0;32m    571\u001b[0m \u001b[38;5;28;01mif\u001b[39;00m has_torch_function_unary(\u001b[38;5;28mself\u001b[39m):\n\u001b[0;32m    572\u001b[0m     \u001b[38;5;28;01mreturn\u001b[39;00m handle_torch_function(\n\u001b[0;32m    573\u001b[0m         Tensor\u001b[38;5;241m.\u001b[39mbackward,\n\u001b[0;32m    574\u001b[0m         (\u001b[38;5;28mself\u001b[39m,),\n\u001b[1;32m   (...)\u001b[0m\n\u001b[0;32m    579\u001b[0m         inputs\u001b[38;5;241m=\u001b[39minputs,\n\u001b[0;32m    580\u001b[0m     )\n\u001b[1;32m--> 581\u001b[0m \u001b[43mtorch\u001b[49m\u001b[38;5;241;43m.\u001b[39;49m\u001b[43mautograd\u001b[49m\u001b[38;5;241;43m.\u001b[39;49m\u001b[43mbackward\u001b[49m\u001b[43m(\u001b[49m\n\u001b[0;32m    582\u001b[0m \u001b[43m    \u001b[49m\u001b[38;5;28;43mself\u001b[39;49m\u001b[43m,\u001b[49m\u001b[43m \u001b[49m\u001b[43mgradient\u001b[49m\u001b[43m,\u001b[49m\u001b[43m \u001b[49m\u001b[43mretain_graph\u001b[49m\u001b[43m,\u001b[49m\u001b[43m \u001b[49m\u001b[43mcreate_graph\u001b[49m\u001b[43m,\u001b[49m\u001b[43m \u001b[49m\u001b[43minputs\u001b[49m\u001b[38;5;241;43m=\u001b[39;49m\u001b[43minputs\u001b[49m\n\u001b[0;32m    583\u001b[0m \u001b[43m\u001b[49m\u001b[43m)\u001b[49m\n",
      "File \u001b[1;32mc:\\Users\\killy\\.conda\\envs\\dl-group-project\\Lib\\site-packages\\torch\\autograd\\__init__.py:347\u001b[0m, in \u001b[0;36mbackward\u001b[1;34m(tensors, grad_tensors, retain_graph, create_graph, grad_variables, inputs)\u001b[0m\n\u001b[0;32m    342\u001b[0m     retain_graph \u001b[38;5;241m=\u001b[39m create_graph\n\u001b[0;32m    344\u001b[0m \u001b[38;5;66;03m# The reason we repeat the same comment below is that\u001b[39;00m\n\u001b[0;32m    345\u001b[0m \u001b[38;5;66;03m# some Python versions print out the first line of a multi-line function\u001b[39;00m\n\u001b[0;32m    346\u001b[0m \u001b[38;5;66;03m# calls in the traceback and some print out the last line\u001b[39;00m\n\u001b[1;32m--> 347\u001b[0m \u001b[43m_engine_run_backward\u001b[49m\u001b[43m(\u001b[49m\n\u001b[0;32m    348\u001b[0m \u001b[43m    \u001b[49m\u001b[43mtensors\u001b[49m\u001b[43m,\u001b[49m\n\u001b[0;32m    349\u001b[0m \u001b[43m    \u001b[49m\u001b[43mgrad_tensors_\u001b[49m\u001b[43m,\u001b[49m\n\u001b[0;32m    350\u001b[0m \u001b[43m    \u001b[49m\u001b[43mretain_graph\u001b[49m\u001b[43m,\u001b[49m\n\u001b[0;32m    351\u001b[0m \u001b[43m    \u001b[49m\u001b[43mcreate_graph\u001b[49m\u001b[43m,\u001b[49m\n\u001b[0;32m    352\u001b[0m \u001b[43m    \u001b[49m\u001b[43minputs\u001b[49m\u001b[43m,\u001b[49m\n\u001b[0;32m    353\u001b[0m \u001b[43m    \u001b[49m\u001b[43mallow_unreachable\u001b[49m\u001b[38;5;241;43m=\u001b[39;49m\u001b[38;5;28;43;01mTrue\u001b[39;49;00m\u001b[43m,\u001b[49m\n\u001b[0;32m    354\u001b[0m \u001b[43m    \u001b[49m\u001b[43maccumulate_grad\u001b[49m\u001b[38;5;241;43m=\u001b[39;49m\u001b[38;5;28;43;01mTrue\u001b[39;49;00m\u001b[43m,\u001b[49m\n\u001b[0;32m    355\u001b[0m \u001b[43m\u001b[49m\u001b[43m)\u001b[49m\n",
      "File \u001b[1;32mc:\\Users\\killy\\.conda\\envs\\dl-group-project\\Lib\\site-packages\\torch\\autograd\\graph.py:825\u001b[0m, in \u001b[0;36m_engine_run_backward\u001b[1;34m(t_outputs, *args, **kwargs)\u001b[0m\n\u001b[0;32m    823\u001b[0m     unregister_hooks \u001b[38;5;241m=\u001b[39m _register_logging_hooks_on_whole_graph(t_outputs)\n\u001b[0;32m    824\u001b[0m \u001b[38;5;28;01mtry\u001b[39;00m:\n\u001b[1;32m--> 825\u001b[0m     \u001b[38;5;28;01mreturn\u001b[39;00m \u001b[43mVariable\u001b[49m\u001b[38;5;241;43m.\u001b[39;49m\u001b[43m_execution_engine\u001b[49m\u001b[38;5;241;43m.\u001b[39;49m\u001b[43mrun_backward\u001b[49m\u001b[43m(\u001b[49m\u001b[43m  \u001b[49m\u001b[38;5;66;43;03m# Calls into the C++ engine to run the backward pass\u001b[39;49;00m\n\u001b[0;32m    826\u001b[0m \u001b[43m        \u001b[49m\u001b[43mt_outputs\u001b[49m\u001b[43m,\u001b[49m\u001b[43m \u001b[49m\u001b[38;5;241;43m*\u001b[39;49m\u001b[43margs\u001b[49m\u001b[43m,\u001b[49m\u001b[43m \u001b[49m\u001b[38;5;241;43m*\u001b[39;49m\u001b[38;5;241;43m*\u001b[39;49m\u001b[43mkwargs\u001b[49m\n\u001b[0;32m    827\u001b[0m \u001b[43m    \u001b[49m\u001b[43m)\u001b[49m  \u001b[38;5;66;03m# Calls into the C++ engine to run the backward pass\u001b[39;00m\n\u001b[0;32m    828\u001b[0m \u001b[38;5;28;01mfinally\u001b[39;00m:\n\u001b[0;32m    829\u001b[0m     \u001b[38;5;28;01mif\u001b[39;00m attach_logging_hooks:\n",
      "\u001b[1;31mKeyboardInterrupt\u001b[0m: "
     ]
    }
   ],
   "source": [
    "# ncps version\n",
    "from torch.utils.tensorboard import SummaryWriter\n",
    "import numpy as np\n",
    "from src.models.lnn import LNN_2, LNN_CfC\n",
    "from training_tools import train, evaluate\n",
    "from training_tools.utils import get_criterion, get_optimizer, get_scheduler \n",
    "\n",
    "train_losses = np.zeros(EPOCHS)\n",
    "valid_losses = np.zeros(EPOCHS)\n",
    "writer = SummaryWriter(log_dir=f\"../data/tensorboard/testing_2\")\n",
    "\n",
    "ltc = LNN_CfC(BATCH_SIZE, input_size, HIDDEN_SIZE, 3, use_mixed=True).to(device)\n",
    "optimizer = get_optimizer(OPTIMIZER, ltc, LR, config={ 'betas': BETAS, 'eps': EPS, 'weight_decay': WEIGHT_DECAY, 'amsgrad': True })\n",
    "scheduler = get_scheduler(SCHEDULER, optimizer, config={'step_size': STEP_SIZE, 'gamma': GAMMA})\n",
    "criterion = get_criterion(CRITERION, train_label_ct, {'cbf_gamma': CRITERION_GAMMA, 'cbf_beta': CRITERION_BETA}, device)\n",
    "\n",
    "\n",
    "for epoch in range(EPOCHS):\n",
    "  train_loss, train_loss_avg = train(ltc, train_loader, optimizer, criterion, device, epoch, writer=writer)\n",
    "  #scheduler.step(train_loss)\n",
    "  scheduler.step()\n",
    "\n",
    "  _, valid_loss_avg, _, _, v_pred_dist, _ = evaluate(ltc, valid_loader, criterion, device=device)\n",
    "\n",
    "  train_losses[epoch] = train_loss_avg\n",
    "  valid_losses[epoch] = valid_loss_avg\n",
    "\n",
    "  writer.add_scalar('Loss/train', train_loss_avg, epoch)\n",
    "  writer.add_scalar('Loss/valid', valid_loss_avg, epoch)\n",
    "\n",
    "  pred_string = ' - '.join([f'C{ix} {x:.3f}' for ix, x in enumerate(v_pred_dist)])\n",
    "  #pb.set_description(\n",
    "  #  f'E: {epoch + 1} | Train: {train_loss_avg:.4f} | Valid {valid_loss_avg:.4f} | V_Pred Dist: {pred_string}'\n",
    "  #)\n",
    "  #pb.update(1)\n",
    "  print(f'E: {epoch + 1} | Train: {train_loss_avg:.4f} | Valid {valid_loss_avg:.4f} | V_Pred Dist: {pred_string}')\n",
    "\n",
    "test_loss, test_loss_avg, test_acc, test_f1, test_pred_dist = evaluate(\n",
    "    ltc,\n",
    "    test_loader,\n",
    "    criterion,\n",
    "    device=device\n",
    ")"
   ]
  },
  {
   "cell_type": "code",
   "execution_count": null,
   "metadata": {},
   "outputs": [
    {
     "name": "stdout",
     "output_type": "stream",
     "text": [
      "| Dataset  | 0: Sell | 1: Hold | 2: Buy |\n",
      "|----------|---------|---------|--------|\n",
      "| Test     |    0.26 |    0.00 |   0.74 |\n",
      "|----------|---------|---------|--------|\n",
      "0.4639423076923077\n"
     ]
    },
    {
     "data": {
      "image/png": "[encoded data removed]",
      "text/plain": [
       "<Figure size 640x480 with 1 Axes>"
      ]
     },
     "metadata": {},
     "output_type": "display_data"
    }
   ],
   "source": [
    "from src.dataset._dataset_utils import print_target_distribution\n",
    "from training_tools import plot_results\n",
    "\n",
    "print_target_distribution([(\"Test\", test_pred_dist)])\n",
    "\n",
    "plot_results(train_losses, valid_losses, EPOCHS)\n"
   ]
  }
 ],
 "metadata": {
  "kernelspec": {
   "display_name": "dl-group-project",
   "language": "python",
   "name": "python3"
  },
  "language_info": {
   "codemirror_mode": {
    "name": "ipython",
    "version": 3
   },
   "file_extension": ".py",
   "mimetype": "text/x-python",
   "name": "python",
   "nbconvert_exporter": "python",
   "pygments_lexer": "ipython3",
   "version": "3.12.7"
  }
 },
 "nbformat": 4,
 "nbformat_minor": 2
}
