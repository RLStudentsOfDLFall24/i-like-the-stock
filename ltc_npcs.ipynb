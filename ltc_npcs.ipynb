{
 "cells": [
  {
   "cell_type": "code",
   "execution_count": 125,
   "metadata": {},
   "outputs": [],
   "source": [
    "from src.dataset._dataset_utils import create_datasets\n",
    "\n",
    "\n",
    "ds_names = ['atnf', 'biaf', 'bivi', 'cycc', 'vtak']\n",
    "\n",
    "SEQ_LEN = 30\n",
    "LOG_SPLITS = False\n",
    "FIXED_SCALING = [(7, 3000.), (8, 12.), (9, 31.)]\n",
    "ROOT = './data/clean'\n",
    "\n",
    "datasets = { x: create_datasets(x, ROOT, FIXED_SCALING, LOG_SPLITS) for x in ds_names }"
   ]
  },
  {
   "cell_type": "code",
   "execution_count": 126,
   "metadata": {},
   "outputs": [
    {
     "name": "stdout",
     "output_type": "stream",
     "text": [
      "cuda\n"
     ]
    }
   ],
   "source": [
    "import torch\n",
    "\n",
    "device = torch.device('cuda' if torch.cuda.is_available() else 'cpu')\n",
    "print(device)"
   ]
  },
  {
   "cell_type": "code",
   "execution_count": null,
   "metadata": {},
   "outputs": [
    {
     "name": "stdout",
     "output_type": "stream",
     "text": [
      "torch.Size([10, 22])\n"
     ]
    }
   ],
   "source": [
    "LR = 1e-2\n",
    "BETAS = (0.9, 0.999)\n",
    "EPS = 1e-7\n",
    "WEIGHT_DECAY=1e-5\n",
    "\n",
    "GAMMA = 0.1\n",
    "STEP_SIZE = 0.1\n",
    "MILESTONES = [5, 10, 15]\n",
    "MIN_LR = 1e-5\n",
    "CRITERION_GAMMA=2.0\n",
    "CRITERION_BETA=0.99\n",
    "\n",
    "OPTIMIZER = 'adam' # 'adam' or 'sgd'\n",
    "SCHEDULER = 'step' # 'plateau', 'step', or 'multi'\n",
    "CRITERION = 'ce'   # 'ce' or 'cb_focal'\n",
    "\n",
    "BATCH_SIZE = 16\n",
    "HIDDEN_SIZE = 32\n",
    "\n",
    "EPOCHS = 40\n",
    "\n",
    "data='atnf'\n",
    "\n",
    "print(datasets[data][0][0][0].shape)\n",
    "\n",
    "input_size = datasets[data][0][0][0].shape[1]\n",
    "train_label_ct = datasets[data][0].target_counts\n"
   ]
  },
  {
   "cell_type": "code",
   "execution_count": 128,
   "metadata": {},
   "outputs": [
    {
     "name": "stdout",
     "output_type": "stream",
     "text": [
      "The autoreload extension is already loaded. To reload it, use:\n",
      "  %reload_ext autoreload\n"
     ]
    }
   ],
   "source": [
    "%load_ext autoreload\n",
    "%autoreload 2\n",
    "\n",
    "from torch.utils.data import DataLoader\n",
    "\n",
    "\n",
    "ds_train, ds_valid, ds_test = datasets[data]\n",
    "\n",
    "train_loader, valid_loader, test_loader = DataLoader(ds_train, batch_size=BATCH_SIZE, shuffle=True), DataLoader(ds_valid, batch_size=BATCH_SIZE, shuffle=False), DataLoader(ds_test, batch_size=BATCH_SIZE, shuffle=False)"
   ]
  },
  {
   "cell_type": "code",
   "execution_count": 129,
   "metadata": {},
   "outputs": [
    {
     "name": "stdout",
     "output_type": "stream",
     "text": [
      "E: 1 | Train: 0.4175 | Valid 0.3727 | V_Pred Dist: C0 1.000 - C1 0.000 - C2 0.000\n",
      "E: 2 | Train: 0.3530 | Valid 0.3813 | V_Pred Dist: C0 1.000 - C1 0.000 - C2 0.000\n",
      "E: 3 | Train: 0.3747 | Valid 0.3656 | V_Pred Dist: C0 1.000 - C1 0.000 - C2 0.000\n",
      "E: 4 | Train: 0.3562 | Valid 0.3832 | V_Pred Dist: C0 1.000 - C1 0.000 - C2 0.000\n",
      "E: 5 | Train: 0.3695 | Valid 0.3607 | V_Pred Dist: C0 1.000 - C1 0.000 - C2 0.000\n",
      "E: 6 | Train: 0.3645 | Valid 0.3629 | V_Pred Dist: C0 0.000 - C1 0.000 - C2 1.000\n",
      "E: 7 | Train: 0.3670 | Valid 0.3667 | V_Pred Dist: C0 0.000 - C1 0.000 - C2 1.000\n",
      "E: 8 | Train: 0.3775 | Valid 0.3820 | V_Pred Dist: C0 0.000 - C1 0.000 - C2 1.000\n",
      "E: 9 | Train: 0.3661 | Valid 0.3647 | V_Pred Dist: C0 0.000 - C1 0.000 - C2 1.000\n",
      "E: 10 | Train: 0.3843 | Valid 0.3708 | V_Pred Dist: C0 1.000 - C1 0.000 - C2 0.000\n",
      "E: 11 | Train: 0.3676 | Valid 0.3728 | V_Pred Dist: C0 1.000 - C1 0.000 - C2 0.000\n",
      "E: 12 | Train: 0.3693 | Valid 0.4689 | V_Pred Dist: C0 0.000 - C1 1.000 - C2 0.000\n",
      "E: 13 | Train: 0.3699 | Valid 0.3596 | V_Pred Dist: C0 0.000 - C1 0.000 - C2 1.000\n",
      "E: 14 | Train: 0.3682 | Valid 0.3911 | V_Pred Dist: C0 0.000 - C1 0.000 - C2 1.000\n",
      "E: 15 | Train: 0.3802 | Valid 0.3624 | V_Pred Dist: C0 1.000 - C1 0.000 - C2 0.000\n",
      "E: 16 | Train: 0.3630 | Valid 0.3628 | V_Pred Dist: C0 1.000 - C1 0.000 - C2 0.000\n",
      "E: 17 | Train: 0.3656 | Valid 0.3598 | V_Pred Dist: C0 1.000 - C1 0.000 - C2 0.000\n",
      "E: 18 | Train: 0.3739 | Valid 0.3759 | V_Pred Dist: C0 1.000 - C1 0.000 - C2 0.000\n",
      "E: 19 | Train: 0.3824 | Valid 0.3712 | V_Pred Dist: C0 1.000 - C1 0.000 - C2 0.000\n",
      "E: 20 | Train: 0.3812 | Valid 0.4015 | V_Pred Dist: C0 1.000 - C1 0.000 - C2 0.000\n",
      "E: 21 | Train: 0.3708 | Valid 0.3839 | V_Pred Dist: C0 1.000 - C1 0.000 - C2 0.000\n",
      "E: 22 | Train: 0.3671 | Valid 0.3556 | V_Pred Dist: C0 0.000 - C1 0.000 - C2 1.000\n",
      "E: 23 | Train: 0.3727 | Valid 0.3569 | V_Pred Dist: C0 1.000 - C1 0.000 - C2 0.000\n",
      "E: 24 | Train: 0.3601 | Valid 0.3537 | V_Pred Dist: C0 1.000 - C1 0.000 - C2 0.000\n",
      "E: 25 | Train: 0.3925 | Valid 0.4185 | V_Pred Dist: C0 1.000 - C1 0.000 - C2 0.000\n",
      "E: 26 | Train: 0.3760 | Valid 0.4040 | V_Pred Dist: C0 0.000 - C1 0.000 - C2 1.000\n",
      "E: 27 | Train: 0.3798 | Valid 0.3757 | V_Pred Dist: C0 0.000 - C1 0.000 - C2 1.000\n",
      "E: 28 | Train: 0.3730 | Valid 0.3655 | V_Pred Dist: C0 1.000 - C1 0.000 - C2 0.000\n",
      "E: 29 | Train: 0.3595 | Valid 0.3721 | V_Pred Dist: C0 1.000 - C1 0.000 - C2 0.000\n",
      "E: 30 | Train: 0.3639 | Valid 0.3738 | V_Pred Dist: C0 1.000 - C1 0.000 - C2 0.000\n",
      "E: 31 | Train: 0.3710 | Valid 0.3609 | V_Pred Dist: C0 0.000 - C1 0.000 - C2 1.000\n",
      "E: 32 | Train: 0.3708 | Valid 0.3970 | V_Pred Dist: C0 1.000 - C1 0.000 - C2 0.000\n",
      "E: 33 | Train: 0.3844 | Valid 0.3756 | V_Pred Dist: C0 1.000 - C1 0.000 - C2 0.000\n",
      "E: 34 | Train: 0.3775 | Valid 0.3631 | V_Pred Dist: C0 1.000 - C1 0.000 - C2 0.000\n",
      "E: 35 | Train: 0.3823 | Valid 0.3693 | V_Pred Dist: C0 0.000 - C1 0.000 - C2 1.000\n",
      "E: 36 | Train: 0.3694 | Valid 0.4062 | V_Pred Dist: C0 1.000 - C1 0.000 - C2 0.000\n",
      "E: 37 | Train: 0.3906 | Valid 0.3540 | V_Pred Dist: C0 1.000 - C1 0.000 - C2 0.000\n",
      "E: 38 | Train: 0.3649 | Valid 0.5043 | V_Pred Dist: C0 1.000 - C1 0.000 - C2 0.000\n",
      "E: 39 | Train: 0.3958 | Valid 0.3539 | V_Pred Dist: C0 1.000 - C1 0.000 - C2 0.000\n",
      "E: 40 | Train: 0.3644 | Valid 0.3542 | V_Pred Dist: C0 0.000 - C1 0.000 - C2 1.000\n"
     ]
    }
   ],
   "source": [
    "# ncps version\n",
    "from torch.utils.tensorboard import SummaryWriter\n",
    "import numpy as np\n",
    "from src.models.lnn import LNN_2, LNN_CfC\n",
    "from training_tools import train, evaluate\n",
    "from training_tools.utils import get_criterion, get_optimizer, get_scheduler \n",
    "\n",
    "train_losses = np.zeros(EPOCHS)\n",
    "valid_losses = np.zeros(EPOCHS)\n",
    "writer = SummaryWriter(log_dir=f\"../data/tensorboard/testing_2\")\n",
    "\n",
    "ltc = LNN_CfC(BATCH_SIZE, input_size, HIDDEN_SIZE, 3, use_mixed=True).to(device)\n",
    "optimizer = get_optimizer(OPTIMIZER, ltc, LR, config={ 'betas': BETAS, 'eps': EPS, 'weight_decay': WEIGHT_DECAY, 'amsgrad': True })\n",
    "scheduler = get_scheduler(SCHEDULER, optimizer, config={'step_size': STEP_SIZE, 'gamma': GAMMA})\n",
    "criterion = get_criterion(CRITERION, train_label_ct, {'cbf_gamma': CRITERION_GAMMA, 'cbf_beta': CRITERION_BETA}, device)\n",
    "\n",
    "\n",
    "for epoch in range(EPOCHS):\n",
    "  train_loss, train_loss_avg = train(ltc, train_loader, optimizer, criterion, device, epoch, writer=writer)\n",
    "  #scheduler.step(train_loss)\n",
    "  scheduler.step()\n",
    "\n",
    "  _, valid_loss_avg, _, _, v_pred_dist, _ = evaluate(ltc, valid_loader, criterion, device=device)\n",
    "\n",
    "  train_losses[epoch] = train_loss_avg\n",
    "  valid_losses[epoch] = valid_loss_avg\n",
    "\n",
    "  writer.add_scalar('Loss/train', train_loss_avg, epoch)\n",
    "  writer.add_scalar('Loss/valid', valid_loss_avg, epoch)\n",
    "\n",
    "  pred_string = ' - '.join([f'C{ix} {x:.3f}' for ix, x in enumerate(v_pred_dist)])\n",
    "  #pb.set_description(\n",
    "  #  f'E: {epoch + 1} | Train: {train_loss_avg:.4f} | Valid {valid_loss_avg:.4f} | V_Pred Dist: {pred_string}'\n",
    "  #)\n",
    "  #pb.update(1)\n",
    "  print(f'E: {epoch + 1} | Train: {train_loss_avg:.4f} | Valid {valid_loss_avg:.4f} | V_Pred Dist: {pred_string}')\n",
    "\n",
    "test_loss, test_loss_avg, test_acc, test_f1, test_pred_dist, mcc = evaluate(\n",
    "    ltc,\n",
    "    test_loader,\n",
    "    criterion,\n",
    "    device=device\n",
    ")"
   ]
  },
  {
   "cell_type": "code",
   "execution_count": 131,
   "metadata": {},
   "outputs": [
    {
     "name": "stdout",
     "output_type": "stream",
     "text": [
      "| Dataset  | 0: Sell | 1: Hold | 2: Buy |\n",
      "|----------|---------|---------|--------|\n",
      "| Test     |    0.00 |    0.00 |   1.00 |\n",
      "|----------|---------|---------|--------|\n",
      "0.4188701923076923\n"
     ]
    },
    {
     "data": {
      "image/png": "[encoded data removed]",
      "text/plain": [
       "<Figure size 640x480 with 1 Axes>"
      ]
     },
     "metadata": {},
     "output_type": "display_data"
    }
   ],
   "source": [
    "from src.dataset._dataset_utils import print_target_distribution\n",
    "from training_tools import plot_results\n",
    "\n",
    "print_target_distribution([(\"Test\", test_pred_dist)])\n",
    "\n",
    "print(test_acc)\n",
    "\n",
    "plot_results(train_losses, valid_losses, EPOCHS)\n"
   ]
  }
 ],
 "metadata": {
  "kernelspec": {
   "display_name": "dl-group-project",
   "language": "python",
   "name": "python3"
  },
  "language_info": {
   "codemirror_mode": {
    "name": "ipython",
    "version": 3
   },
   "file_extension": ".py",
   "mimetype": "text/x-python",
   "name": "python",
   "nbconvert_exporter": "python",
   "pygments_lexer": "ipython3",
   "version": "3.12.7"
  }
 },
 "nbformat": 4,
 "nbformat_minor": 2
}
