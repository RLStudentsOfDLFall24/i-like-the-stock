{
 "cells": [
  {
   "cell_type": "code",
   "execution_count": 83,
   "metadata": {},
   "outputs": [
    {
     "name": "stderr",
     "output_type": "stream",
     "text": [
      "[autoreload of src.models.lnn failed: Traceback (most recent call last):\n",
      "  File \"c:\\Users\\killy\\.conda\\envs\\dl-group-project\\Lib\\site-packages\\IPython\\extensions\\autoreload.py\", line 276, in check\n",
      "    superreload(m, reload, self.old_objects)\n",
      "  File \"c:\\Users\\killy\\.conda\\envs\\dl-group-project\\Lib\\site-packages\\IPython\\extensions\\autoreload.py\", line 500, in superreload\n",
      "    update_generic(old_obj, new_obj)\n",
      "  File \"c:\\Users\\killy\\.conda\\envs\\dl-group-project\\Lib\\site-packages\\IPython\\extensions\\autoreload.py\", line 397, in update_generic\n",
      "    update(a, b)\n",
      "  File \"c:\\Users\\killy\\.conda\\envs\\dl-group-project\\Lib\\site-packages\\IPython\\extensions\\autoreload.py\", line 349, in update_class\n",
      "    if update_generic(old_obj, new_obj):\n",
      "       ^^^^^^^^^^^^^^^^^^^^^^^^^^^^^^^^\n",
      "  File \"c:\\Users\\killy\\.conda\\envs\\dl-group-project\\Lib\\site-packages\\IPython\\extensions\\autoreload.py\", line 397, in update_generic\n",
      "    update(a, b)\n",
      "  File \"c:\\Users\\killy\\.conda\\envs\\dl-group-project\\Lib\\site-packages\\IPython\\extensions\\autoreload.py\", line 309, in update_function\n",
      "    setattr(old, name, getattr(new, name))\n",
      "ValueError: __init__() requires a code object with 0 free vars, not 1219770712065\n",
      "]\n"
     ]
    }
   ],
   "source": [
    "from src.dataset._dataset_utils import create_datasets\n",
    "\n",
    "\n",
    "ds_names = ['atnf', 'biaf', 'bivi', 'cycc', 'vtak']\n",
    "\n",
    "SEQ_LEN = 30\n",
    "LOG_SPLITS = False\n",
    "FIXED_SCALING = [(7, 3000.), (8, 12.), (9, 31.)]\n",
    "ROOT = './data/clean'\n",
    "\n",
    "datasets = { x: create_datasets(x, ROOT, FIXED_SCALING, LOG_SPLITS) for x in ds_names }"
   ]
  },
  {
   "cell_type": "code",
   "execution_count": 84,
   "metadata": {},
   "outputs": [
    {
     "name": "stdout",
     "output_type": "stream",
     "text": [
      "cuda\n"
     ]
    }
   ],
   "source": [
    "import torch\n",
    "\n",
    "device = torch.device('cuda' if torch.cuda.is_available() else 'cpu')\n",
    "print(device)"
   ]
  },
  {
   "cell_type": "code",
   "execution_count": null,
   "metadata": {},
   "outputs": [
    {
     "name": "stdout",
     "output_type": "stream",
     "text": [
      "torch.Size([10, 22])\n"
     ]
    }
   ],
   "source": [
    "LR = 1e-2\n",
    "BETAS = (0.9, 0.999)\n",
    "EPS = 1e-7\n",
    "WEIGHT_DECAY=1e-5\n",
    "\n",
    "GAMMA = 0.1\n",
    "STEP_SIZE = 0.1\n",
    "MILESTONES = [5, 10, 15]\n",
    "MIN_LR = 1e-5\n",
    "CRITERION_GAMMA=2.0\n",
    "\n",
    "OPTIMIZER = 'adam' # 'adam' or 'sgd'\n",
    "SCHEDULER = 'step' # 'plateau', 'step', or 'multi'\n",
    "CRITERION = 'ce'   # 'ce' or 'cb_focal'\n",
    "\n",
    "BATCH_SIZE = 16\n",
    "HIDDEN_SIZE = 32\n",
    "\n",
    "EPOCHS = 40\n",
    "\n",
    "data='atnf'\n",
    "\n",
    "print(datasets[data][0][0][0].shape)\n",
    "\n",
    "input_size = datasets[data][0][0][0].shape[1]\n",
    "train_label_ct = datasets[data][0].target_counts\n"
   ]
  },
  {
   "cell_type": "code",
   "execution_count": 99,
   "metadata": {},
   "outputs": [],
   "source": [
    "from typing import Optional\n",
    "from src.cbfocal_loss import FocalLoss\n",
    "from src.models.abstract_model import AbstractModel\n",
    "\n",
    "\n",
    "def get_optimizer(type: str, model: AbstractModel, lr, **kwargs):\n",
    "  match type:\n",
    "    case 'adam':\n",
    "      return torch.optim.Adam(\n",
    "        model.parameters(),\n",
    "        lr=lr,\n",
    "        **kwargs,\n",
    "      )\n",
    "    case 'sgd':\n",
    "      return torch.optim.SGD(\n",
    "        model.parameters(),\n",
    "        lr=lr,\n",
    "        **kwargs,\n",
    "      )\n",
    "    case _:\n",
    "      raise ValueError(f'Unknown optimizer: {type}')\n",
    "  \n",
    "\n",
    "def get_scheduler(type: str, optimizer: torch.optim.Optimizer, **kwargs):\n",
    "  match type:\n",
    "    case 'plateau':\n",
    "      return torch.optim.lr_scheduler.ReduceLROnPlateau(optimizer, **kwargs)\n",
    "    case 'step':\n",
    "      return torch.optim.lr_scheduler.StepLR(optimizer, **kwargs)\n",
    "    case 'multi':\n",
    "      return torch.optim.lr_scheduler.MultiStepLR(optimizer, **kwargs)\n",
    "    case _:\n",
    "      raise ValueError(f'Unknown scheduler: {type}')\n",
    "    \n",
    "\n",
    "def get_criterion(type: str, train_label_ct: Optional[torch.Tensor] = None, device='cpu', **kwargs):\n",
    "  match type:\n",
    "    case 'ce':\n",
    "      weight = None\n",
    "      if train_label_ct is not None:\n",
    "        weight = train_label_ct.max() / train_label_ct\n",
    "        weight = weight / weight.sum()\n",
    "        weight = weight.to(device)\n",
    "\n",
    "      return torch.nn.CrossEntropyLoss(\n",
    "        weight=weight,\n",
    "      )\n",
    "    case 'cb_focal':\n",
    "      return FocalLoss(\n",
    "        class_counts=train_label_ct.to(device),\n",
    "        **kwargs,\n",
    "      )\n"
   ]
  },
  {
   "cell_type": "code",
   "execution_count": 100,
   "metadata": {},
   "outputs": [
    {
     "name": "stdout",
     "output_type": "stream",
     "text": [
      "The autoreload extension is already loaded. To reload it, use:\n",
      "  %reload_ext autoreload\n"
     ]
    }
   ],
   "source": [
    "%load_ext autoreload\n",
    "%autoreload 2\n",
    "\n",
    "from torch.utils.data import DataLoader\n",
    "\n",
    "\n",
    "ds_train, ds_valid, ds_test = datasets[data]\n",
    "\n",
    "train_loader, valid_loader, test_loader = DataLoader(ds_train, batch_size=BATCH_SIZE, shuffle=True), DataLoader(ds_valid, batch_size=BATCH_SIZE, shuffle=False), DataLoader(ds_test, batch_size=BATCH_SIZE, shuffle=False)"
   ]
  },
  {
   "cell_type": "code",
   "execution_count": 101,
   "metadata": {},
   "outputs": [],
   "source": [
    "from tqdm import tqdm\n",
    "from torch.utils.tensorboard import SummaryWriter\n",
    "import numpy as np\n",
    "\n",
    "\n",
    "def train(\n",
    "    model: AbstractModel,\n",
    "    dataloader: DataLoader,\n",
    "    optimizer: torch.optim.Optimizer,\n",
    "    criterion: torch.nn.CrossEntropyLoss | FocalLoss,\n",
    "    device: torch.device,\n",
    "    epoch: int,\n",
    "    writer: SummaryWriter = None,\n",
    "  ):\n",
    "  model.train()\n",
    "\n",
    "  losses = np.zeros(len(dataloader))\n",
    "\n",
    "  for idx, data in enumerate(dataloader):\n",
    "    x = data[0].to(device)\n",
    "    y = data[1].to(device)\n",
    "\n",
    "    optimizer.zero_grad()\n",
    "    logits: torch.Tensor = model(x)\n",
    "\n",
    "    if len(logits.shape) == 1:\n",
    "      logits = logits.unsqueeze(0)\n",
    "\n",
    "    loss = criterion(logits, y)\n",
    "\n",
    "    loss.backward()\n",
    "    #torch.nn.utils.clip_grad_norm_(model.parameters(), 1.0)\n",
    "    optimizer.step()\n",
    "\n",
    "    if writer is not None:\n",
    "      for l, (name, param) in enumerate(model.named_parameters()):\n",
    "        if param.grad is not None:\n",
    "          writer.add_scalar(f'Gradients/{l:02}_{name}', param.grad.norm().item(), epoch * len(dataloader) + idx)\n",
    "\n",
    "    losses[idx] = loss.item()\n",
    "\n",
    "  return losses.sum(), losses.mean()\n",
    "\n"
   ]
  },
  {
   "cell_type": "code",
   "execution_count": 102,
   "metadata": {},
   "outputs": [],
   "source": [
    "from sklearn.metrics import f1_score\n",
    "\n",
    "\n",
    "def evaluate(\n",
    "    model: AbstractModel,\n",
    "    dataloader: DataLoader,\n",
    "    criterion: torch.optim.Optimizer,\n",
    "    device: torch.device = 'cpu',\n",
    "):\n",
    "  losses = np.zeros(len(dataloader))\n",
    "  accuracies = np.zeros(len(dataloader))\n",
    "\n",
    "  all_preds = []\n",
    "  all_labels = []\n",
    "  with torch.no_grad():\n",
    "    for idx, data in enumerate(dataloader):\n",
    "      x = data[0].to(device)\n",
    "      y = data[1].to(device)\n",
    "\n",
    "      logits = model(x)\n",
    "\n",
    "      preds = torch.argmax(logits, dim=1)\n",
    "      all_preds.append(preds)\n",
    "      all_labels.append(y)\n",
    "\n",
    "      losses[idx] = criterion(logits, y).item()\n",
    "      accuracies[idx] = torch.sum(torch.argmax(logits, dim=1) == y).item() / y.shape[0]\n",
    "\n",
    "  all_preds = torch.cat(all_preds).cpu()\n",
    "  all_labels = torch.cat(all_labels).cpu()\n",
    "\n",
    "  classes, counts = torch.unique(all_preds, return_counts=True)\n",
    "  pred_dist = torch.zeros(3)\n",
    "  pred_dist[classes] = counts / counts.sum()\n",
    "\n",
    "  f1_weighted = f1_score(all_labels, all_preds, average='weighted')\n",
    "\n",
    "  return losses.sum(), losses.mean(), accuracies.mean(), f1_weighted, pred_dist"
   ]
  },
  {
   "cell_type": "code",
   "execution_count": 103,
   "metadata": {},
   "outputs": [
    {
     "name": "stdout",
     "output_type": "stream",
     "text": [
      "E: 1 | Train: 1.1187 | Valid 1.0843 | V_Pred Dist: C0 0.000 - C1 0.000 - C2 1.000\n",
      "E: 2 | Train: 1.0937 | Valid 1.0810 | V_Pred Dist: C0 0.000 - C1 0.000 - C2 1.000\n",
      "E: 3 | Train: 1.1011 | Valid 1.0848 | V_Pred Dist: C0 0.377 - C1 0.000 - C2 0.623\n",
      "E: 4 | Train: 1.0912 | Valid 1.0830 | V_Pred Dist: C0 0.877 - C1 0.000 - C2 0.123\n",
      "E: 5 | Train: 1.0840 | Valid 1.0798 | V_Pred Dist: C0 0.148 - C1 0.000 - C2 0.852\n",
      "E: 6 | Train: 1.0841 | Valid 1.1028 | V_Pred Dist: C0 0.000 - C1 0.492 - C2 0.508\n",
      "E: 7 | Train: 1.0845 | Valid 1.0770 | V_Pred Dist: C0 0.426 - C1 0.000 - C2 0.574\n",
      "E: 8 | Train: 1.0991 | Valid 1.0886 | V_Pred Dist: C0 0.082 - C1 0.123 - C2 0.795\n",
      "E: 9 | Train: 1.0861 | Valid 1.0832 | V_Pred Dist: C0 0.000 - C1 0.000 - C2 1.000\n",
      "E: 10 | Train: 1.0808 | Valid 1.0668 | V_Pred Dist: C0 0.230 - C1 0.000 - C2 0.770\n",
      "E: 11 | Train: 1.0740 | Valid 1.0687 | V_Pred Dist: C0 0.025 - C1 0.000 - C2 0.975\n",
      "E: 12 | Train: 1.0730 | Valid 1.1043 | V_Pred Dist: C0 0.131 - C1 0.615 - C2 0.254\n",
      "E: 13 | Train: 1.0689 | Valid 1.0681 | V_Pred Dist: C0 0.344 - C1 0.000 - C2 0.656\n",
      "E: 14 | Train: 1.0692 | Valid 1.0770 | V_Pred Dist: C0 0.385 - C1 0.000 - C2 0.615\n",
      "E: 15 | Train: 1.0778 | Valid 1.0644 | V_Pred Dist: C0 0.107 - C1 0.344 - C2 0.549\n",
      "E: 16 | Train: 1.0674 | Valid 1.0724 | V_Pred Dist: C0 0.115 - C1 0.418 - C2 0.467\n",
      "E: 17 | Train: 1.0686 | Valid 1.0724 | V_Pred Dist: C0 0.451 - C1 0.410 - C2 0.139\n",
      "E: 18 | Train: 1.0552 | Valid 1.0987 | V_Pred Dist: C0 0.049 - C1 0.533 - C2 0.418\n",
      "E: 19 | Train: 1.0686 | Valid 1.1133 | V_Pred Dist: C0 0.295 - C1 0.631 - C2 0.074\n",
      "E: 20 | Train: 1.0616 | Valid 1.0788 | V_Pred Dist: C0 0.377 - C1 0.434 - C2 0.189\n",
      "E: 21 | Train: 1.0440 | Valid 1.0988 | V_Pred Dist: C0 0.008 - C1 0.410 - C2 0.582\n",
      "E: 22 | Train: 1.0396 | Valid 1.0637 | V_Pred Dist: C0 0.131 - C1 0.238 - C2 0.631\n",
      "E: 23 | Train: 1.0386 | Valid 1.0644 | V_Pred Dist: C0 0.164 - C1 0.328 - C2 0.508\n",
      "E: 24 | Train: 1.0143 | Valid 1.1221 | V_Pred Dist: C0 0.016 - C1 0.508 - C2 0.475\n",
      "E: 25 | Train: 1.0120 | Valid 1.1062 | V_Pred Dist: C0 0.295 - C1 0.484 - C2 0.221\n",
      "E: 26 | Train: 1.0236 | Valid 1.0907 | V_Pred Dist: C0 0.377 - C1 0.361 - C2 0.262\n",
      "E: 27 | Train: 1.0193 | Valid 1.0921 | V_Pred Dist: C0 0.123 - C1 0.393 - C2 0.484\n",
      "E: 28 | Train: 1.0099 | Valid 1.1571 | V_Pred Dist: C0 0.213 - C1 0.475 - C2 0.311\n",
      "E: 29 | Train: 0.9939 | Valid 1.1325 | V_Pred Dist: C0 0.189 - C1 0.443 - C2 0.369\n",
      "E: 30 | Train: 0.9784 | Valid 1.1229 | V_Pred Dist: C0 0.172 - C1 0.410 - C2 0.418\n",
      "E: 31 | Train: 0.9788 | Valid 1.1162 | V_Pred Dist: C0 0.123 - C1 0.434 - C2 0.443\n",
      "E: 32 | Train: 0.9846 | Valid 1.2172 | V_Pred Dist: C0 0.123 - C1 0.541 - C2 0.336\n",
      "E: 33 | Train: 0.9678 | Valid 1.1128 | V_Pred Dist: C0 0.189 - C1 0.434 - C2 0.377\n",
      "E: 34 | Train: 0.9479 | Valid 1.1716 | V_Pred Dist: C0 0.213 - C1 0.393 - C2 0.393\n",
      "E: 35 | Train: 0.9576 | Valid 1.2501 | V_Pred Dist: C0 0.254 - C1 0.475 - C2 0.270\n",
      "E: 36 | Train: 0.8976 | Valid 1.1632 | V_Pred Dist: C0 0.082 - C1 0.303 - C2 0.615\n",
      "E: 37 | Train: 0.9425 | Valid 1.2254 | V_Pred Dist: C0 0.230 - C1 0.492 - C2 0.279\n",
      "E: 38 | Train: 0.8999 | Valid 1.1795 | V_Pred Dist: C0 0.131 - C1 0.418 - C2 0.451\n",
      "E: 39 | Train: 0.8806 | Valid 1.2687 | V_Pred Dist: C0 0.328 - C1 0.410 - C2 0.262\n",
      "E: 40 | Train: 0.8493 | Valid 1.2402 | V_Pred Dist: C0 0.082 - C1 0.361 - C2 0.557\n"
     ]
    }
   ],
   "source": [
    "# ncps version\n",
    "from src.models.lnn import LNN_2 \n",
    "\n",
    "train_losses = np.zeros(EPOCHS)\n",
    "valid_losses = np.zeros(EPOCHS)\n",
    "writer = SummaryWriter(log_dir=f\"../data/tensorboard/testing_2\")\n",
    "\n",
    "ltc = LNN_2(BATCH_SIZE, input_size, HIDDEN_SIZE, 3, n_layers=6, use_mixed=True).to(device)\n",
    "optimizer = get_optimizer(OPTIMIZER, ltc, LR, betas=BETAS, eps=EPS)\n",
    "scheduler = get_scheduler(SCHEDULER, optimizer, step_size=STEP_SIZE, gamma=GAMMA)\n",
    "criterion = get_criterion(CRITERION, train_label_ct, device)\n",
    "\n",
    "\n",
    "for epoch in range(EPOCHS):\n",
    "  train_loss, train_loss_avg = train(ltc, train_loader, optimizer, criterion, device, epoch, writer=None)\n",
    "  #scheduler.step(train_loss)\n",
    "  scheduler.step()\n",
    "\n",
    "  _, valid_loss_avg, _, _, v_pred_dist = evaluate(ltc, valid_loader, criterion, device=device)\n",
    "\n",
    "  train_losses[epoch] = train_loss_avg\n",
    "  valid_losses[epoch] = valid_loss_avg\n",
    "\n",
    "  writer.add_scalar('Loss/train', train_loss_avg, epoch)\n",
    "  writer.add_scalar('Loss/valid', valid_loss_avg, epoch)\n",
    "\n",
    "  pred_string = ' - '.join([f'C{ix} {x:.3f}' for ix, x in enumerate(v_pred_dist)])\n",
    "  #pb.set_description(\n",
    "  #  f'E: {epoch + 1} | Train: {train_loss_avg:.4f} | Valid {valid_loss_avg:.4f} | V_Pred Dist: {pred_string}'\n",
    "  #)\n",
    "  #pb.update(1)\n",
    "  print(f'E: {epoch + 1} | Train: {train_loss_avg:.4f} | Valid {valid_loss_avg:.4f} | V_Pred Dist: {pred_string}')\n",
    "\n",
    "test_loss, test_loss_avg, test_acc, test_f1, test_pred_dist = evaluate(\n",
    "    ltc,\n",
    "    test_loader,\n",
    "    criterion,\n",
    "    device=device\n",
    ")"
   ]
  },
  {
   "cell_type": "code",
   "execution_count": 104,
   "metadata": {},
   "outputs": [
    {
     "name": "stdout",
     "output_type": "stream",
     "text": [
      "| Dataset  | 0: Sell | 1: Hold | 2: Buy |\n",
      "|----------|---------|---------|--------|\n",
      "| Test     |    0.31 |    0.03 |   0.66 |\n",
      "|----------|---------|---------|--------|\n",
      "0.4230769230769231\n"
     ]
    },
    {
     "data": {
      "image/png": "[encoded data removed]",
      "text/plain": [
       "<Figure size 640x480 with 1 Axes>"
      ]
     },
     "metadata": {},
     "output_type": "display_data"
    }
   ],
   "source": [
    "import matplotlib.pyplot as plt\n",
    "\n",
    "from src.dataset._dataset_utils import print_target_distribution\n",
    "\n",
    "print_target_distribution([(\"Test\", test_pred_dist)])\n",
    "\n",
    "print(test_acc)\n",
    "\n",
    "plt.plot(train_losses, label='Train Loss')\n",
    "plt.plot(valid_losses, label='Valid Loss')\n",
    "# Set y scale between 0.25 and 1.25\n",
    "plt.xlim(0, EPOCHS)\n",
    "plt.ylim(0.0, 2)\n",
    "plt.legend()\n",
    "plt.tight_layout()\n",
    "plt.show()\n",
    "plt.close()\n"
   ]
  }
 ],
 "metadata": {
  "kernelspec": {
   "display_name": "dl-group-project",
   "language": "python",
   "name": "python3"
  },
  "language_info": {
   "codemirror_mode": {
    "name": "ipython",
    "version": 3
   },
   "file_extension": ".py",
   "mimetype": "text/x-python",
   "name": "python",
   "nbconvert_exporter": "python",
   "pygments_lexer": "ipython3",
   "version": "3.12.7"
  }
 },
 "nbformat": 4,
 "nbformat_minor": 2
}
