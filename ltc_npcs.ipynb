{
 "cells": [
  {
   "cell_type": "code",
   "execution_count": 41,
   "metadata": {},
   "outputs": [],
   "source": [
    "from src.dataset._dataset_utils import create_datasets\n",
    "\n",
    "\n",
    "ds_names = ['atnf', 'biaf', 'bivi', 'cycc', 'vtak']\n",
    "\n",
    "SEQ_LEN = 30\n",
    "LOG_SPLITS = False\n",
    "FIXED_SCALING = [(7, 3000.), (8, 12.), (9, 31.)]\n",
    "ROOT = './data/clean'\n",
    "\n",
    "datasets = { x: create_datasets(x, ROOT, FIXED_SCALING, LOG_SPLITS) for x in ds_names }"
   ]
  },
  {
   "cell_type": "code",
   "execution_count": 42,
   "metadata": {},
   "outputs": [
    {
     "name": "stdout",
     "output_type": "stream",
     "text": [
      "cuda\n"
     ]
    }
   ],
   "source": [
    "import torch\n",
    "\n",
    "device = torch.device('cuda' if torch.cuda.is_available() else 'cpu')\n",
    "print(device)"
   ]
  },
  {
   "cell_type": "code",
   "execution_count": 52,
   "metadata": {},
   "outputs": [
    {
     "name": "stdout",
     "output_type": "stream",
     "text": [
      "torch.Size([10, 22])\n"
     ]
    }
   ],
   "source": [
    "LR = 1e-2\n",
    "BETAS = (0.9, 0.999)\n",
    "EPS = 1e-8\n",
    "WEIGHT_DECAY=1e-5\n",
    "\n",
    "GAMMA = 0.1\n",
    "STEP_SIZE = 0.1\n",
    "MILESTONES = [5, 10, 15]\n",
    "MIN_LR = 1e-5\n",
    "CRITERION_GAMMA=2.0\n",
    "\n",
    "OPTIMIZER = 'adam' # 'adam' or 'sgd'\n",
    "SCHEDULER = 'step' # 'plateau', 'step', or 'multi'\n",
    "CRITERION = 'ce'   # 'ce' or 'cb_focal'\n",
    "\n",
    "BATCH_SIZE = 16\n",
    "HIDDEN_SIZE = 64\n",
    "\n",
    "EPOCHS = 40\n",
    "\n",
    "data='atnf'\n",
    "\n",
    "print(datasets[data][0][0][0].shape)\n",
    "\n",
    "input_size = datasets[data][0][0][0].shape[1]\n",
    "train_label_ct = datasets[data][0].target_counts\n"
   ]
  },
  {
   "cell_type": "code",
   "execution_count": 53,
   "metadata": {},
   "outputs": [],
   "source": [
    "from typing import Optional\n",
    "from src.cbfocal_loss import FocalLoss\n",
    "from src.models.abstract_model import AbstractModel\n",
    "\n",
    "\n",
    "def get_optimizer(type: str, model: AbstractModel, lr, **kwargs):\n",
    "  match type:\n",
    "    case 'adam':\n",
    "      return torch.optim.Adam(\n",
    "        model.parameters(),\n",
    "        lr=lr,\n",
    "        **kwargs,\n",
    "      )\n",
    "    case 'sgd':\n",
    "      return torch.optim.SGD(\n",
    "        model.parameters(),\n",
    "        lr=lr,\n",
    "        **kwargs,\n",
    "      )\n",
    "    case _:\n",
    "      raise ValueError(f'Unknown optimizer: {type}')\n",
    "  \n",
    "\n",
    "def get_scheduler(type: str, optimizer: torch.optim.Optimizer, **kwargs):\n",
    "  match type:\n",
    "    case 'plateau':\n",
    "      return torch.optim.lr_scheduler.ReduceLROnPlateau(optimizer, **kwargs)\n",
    "    case 'step':\n",
    "      return torch.optim.lr_scheduler.StepLR(optimizer, **kwargs)\n",
    "    case 'multi':\n",
    "      return torch.optim.lr_scheduler.MultiStepLR(optimizer, **kwargs)\n",
    "    case _:\n",
    "      raise ValueError(f'Unknown scheduler: {type}')\n",
    "    \n",
    "\n",
    "def get_criterion(type: str, train_label_ct: Optional[torch.Tensor] = None, device='cpu', **kwargs):\n",
    "  match type:\n",
    "    case 'ce':\n",
    "      weight = None\n",
    "      if train_label_ct is not None:\n",
    "        weight = train_label_ct.max() / train_label_ct\n",
    "        weight = weight / weight.sum()\n",
    "        weight = weight.to(device)\n",
    "\n",
    "      return torch.nn.CrossEntropyLoss(\n",
    "        weight=weight,\n",
    "      )\n",
    "    case 'cb_focal':\n",
    "      return FocalLoss(\n",
    "        class_counts=train_label_ct.to(device),\n",
    "        **kwargs,\n",
    "      )\n"
   ]
  },
  {
   "cell_type": "code",
   "execution_count": 54,
   "metadata": {},
   "outputs": [
    {
     "name": "stdout",
     "output_type": "stream",
     "text": [
      "The autoreload extension is already loaded. To reload it, use:\n",
      "  %reload_ext autoreload\n"
     ]
    }
   ],
   "source": [
    "%load_ext autoreload\n",
    "%autoreload 2\n",
    "\n",
    "from torch.utils.data import DataLoader\n",
    "\n",
    "\n",
    "ds_train, ds_valid, ds_test = datasets[data]\n",
    "\n",
    "train_loader, valid_loader, test_loader = DataLoader(ds_train, batch_size=BATCH_SIZE, shuffle=True), DataLoader(ds_valid, batch_size=BATCH_SIZE, shuffle=False), DataLoader(ds_test, batch_size=BATCH_SIZE, shuffle=False)"
   ]
  },
  {
   "cell_type": "code",
   "execution_count": 55,
   "metadata": {},
   "outputs": [],
   "source": [
    "from tqdm import tqdm\n",
    "from torch.utils.tensorboard import SummaryWriter\n",
    "import numpy as np\n",
    "\n",
    "\n",
    "def train(\n",
    "    model: AbstractModel,\n",
    "    dataloader: DataLoader,\n",
    "    optimizer: torch.optim.Optimizer,\n",
    "    criterion: torch.nn.CrossEntropyLoss | FocalLoss,\n",
    "    device: torch.device,\n",
    "    epoch: int,\n",
    "    writer: SummaryWriter = None,\n",
    "  ):\n",
    "  model.train()\n",
    "\n",
    "  losses = np.zeros(len(dataloader))\n",
    "\n",
    "  for idx, data in enumerate(dataloader):\n",
    "    x = data[0].to(device)\n",
    "    y = data[1].to(device)\n",
    "\n",
    "    optimizer.zero_grad()\n",
    "    logits: torch.Tensor = model(x)\n",
    "\n",
    "    if len(logits.shape) == 1:\n",
    "      logits = logits.unsqueeze(0)\n",
    "\n",
    "    loss = criterion(logits, y)\n",
    "\n",
    "    loss.backward()\n",
    "    #torch.nn.utils.clip_grad_norm_(model.parameters(), 1.0)\n",
    "    optimizer.step()\n",
    "\n",
    "    if writer is not None:\n",
    "      for l, (name, param) in enumerate(model.named_parameters()):\n",
    "        if param.grad is not None:\n",
    "          writer.add_scalar(f'Gradients/{l:02}_{name}', param.grad.norm().item(), epoch * len(dataloader) + idx)\n",
    "\n",
    "    losses[idx] = loss.item()\n",
    "\n",
    "  return losses.sum(), losses.mean()\n",
    "\n"
   ]
  },
  {
   "cell_type": "code",
   "execution_count": 56,
   "metadata": {},
   "outputs": [],
   "source": [
    "from sklearn.metrics import f1_score\n",
    "\n",
    "\n",
    "def evaluate(\n",
    "    model: AbstractModel,\n",
    "    dataloader: DataLoader,\n",
    "    criterion: torch.optim.Optimizer,\n",
    "    device: torch.device = 'cpu',\n",
    "):\n",
    "  losses = np.zeros(len(dataloader))\n",
    "  accuracies = np.zeros(len(dataloader))\n",
    "\n",
    "  all_preds = []\n",
    "  all_labels = []\n",
    "  with torch.no_grad():\n",
    "    for idx, data in enumerate(dataloader):\n",
    "      x = data[0].to(device)\n",
    "      y = data[1].to(device)\n",
    "\n",
    "      logits = model(x)\n",
    "\n",
    "      preds = torch.argmax(logits, dim=1)\n",
    "      all_preds.append(preds)\n",
    "      all_labels.append(y)\n",
    "\n",
    "      losses[idx] = criterion(logits, y).item()\n",
    "      accuracies[idx] = torch.sum(torch.argmax(logits, dim=1) == y).item() / y.shape[0]\n",
    "\n",
    "  all_preds = torch.cat(all_preds).cpu()\n",
    "  all_labels = torch.cat(all_labels).cpu()\n",
    "\n",
    "  classes, counts = torch.unique(all_preds, return_counts=True)\n",
    "  pred_dist = torch.zeros(3)\n",
    "  pred_dist[classes] = counts / counts.sum()\n",
    "\n",
    "  f1_weighted = f1_score(all_labels, all_preds, average='weighted')\n",
    "\n",
    "  return losses.sum(), losses.mean(), accuracies.mean(), f1_weighted, pred_dist"
   ]
  },
  {
   "cell_type": "code",
   "execution_count": null,
   "metadata": {},
   "outputs": [
    {
     "name": "stdout",
     "output_type": "stream",
     "text": [
      "E: 1 | Train: 1.1043 | Valid 1.0834 | V_Pred Dist: C0 0.041 - C1 0.000 - C2 0.959\n",
      "E: 2 | Train: 1.0946 | Valid 1.0807 | V_Pred Dist: C0 0.336 - C1 0.000 - C2 0.664\n",
      "E: 3 | Train: 1.0840 | Valid 1.0777 | V_Pred Dist: C0 0.434 - C1 0.000 - C2 0.566\n",
      "E: 4 | Train: 1.0912 | Valid 1.0726 | V_Pred Dist: C0 0.008 - C1 0.000 - C2 0.992\n",
      "E: 5 | Train: 1.0841 | Valid 1.0779 | V_Pred Dist: C0 0.000 - C1 0.197 - C2 0.803\n",
      "E: 6 | Train: 1.0808 | Valid 1.0765 | V_Pred Dist: C0 0.574 - C1 0.000 - C2 0.426\n",
      "E: 7 | Train: 1.0858 | Valid 1.0856 | V_Pred Dist: C0 0.000 - C1 0.475 - C2 0.525\n",
      "E: 8 | Train: 1.0888 | Valid 1.0745 | V_Pred Dist: C0 0.008 - C1 0.000 - C2 0.992\n",
      "E: 9 | Train: 1.0817 | Valid 1.0661 | V_Pred Dist: C0 0.008 - C1 0.262 - C2 0.730\n",
      "E: 10 | Train: 1.0874 | Valid 1.0815 | V_Pred Dist: C0 0.008 - C1 0.451 - C2 0.541\n",
      "E: 11 | Train: 1.0715 | Valid 1.0580 | V_Pred Dist: C0 0.467 - C1 0.057 - C2 0.475\n"
     ]
    }
   ],
   "source": [
    "# ncps version\n",
    "from src.models.lnn import LNN_2 \n",
    "\n",
    "train_losses = np.zeros(EPOCHS)\n",
    "valid_losses = np.zeros(EPOCHS)\n",
    "writer = SummaryWriter(log_dir=f\"../data/tensorboard/testing_2\")\n",
    "\n",
    "ltc = LNN_2(BATCH_SIZE, input_size, HIDDEN_SIZE, 3, n_layers=6, use_mixed=True).to(device)\n",
    "optimizer = get_optimizer(OPTIMIZER, ltc, LR, betas=BETAS, eps=EPS)\n",
    "scheduler = get_scheduler(SCHEDULER, optimizer, step_size=STEP_SIZE, gamma=GAMMA)\n",
    "criterion = get_criterion(CRITERION, train_label_ct, device)\n",
    "\n",
    "\n",
    "for epoch in range(EPOCHS):\n",
    "  train_loss, train_loss_avg = train(ltc, train_loader, optimizer, criterion, device, epoch, writer=None)\n",
    "  #scheduler.step(train_loss)\n",
    "  scheduler.step()\n",
    "\n",
    "  _, valid_loss_avg, _, _, v_pred_dist = evaluate(ltc, valid_loader, criterion, device=device)\n",
    "\n",
    "  train_losses[epoch] = train_loss_avg\n",
    "  valid_losses[epoch] = valid_loss_avg\n",
    "\n",
    "  writer.add_scalar('Loss/train', train_loss_avg, epoch)\n",
    "  writer.add_scalar('Loss/valid', valid_loss_avg, epoch)\n",
    "\n",
    "  pred_string = ' - '.join([f'C{ix} {x:.3f}' for ix, x in enumerate(v_pred_dist)])\n",
    "  #pb.set_description(\n",
    "  #  f'E: {epoch + 1} | Train: {train_loss_avg:.4f} | Valid {valid_loss_avg:.4f} | V_Pred Dist: {pred_string}'\n",
    "  #)\n",
    "  #pb.update(1)\n",
    "  print(f'E: {epoch + 1} | Train: {train_loss_avg:.4f} | Valid {valid_loss_avg:.4f} | V_Pred Dist: {pred_string}')\n",
    "\n",
    "test_loss, test_loss_avg, test_acc, test_f1, test_pred_dist = evaluate(\n",
    "    ltc,\n",
    "    test_loader,\n",
    "    criterion,\n",
    "    device=device\n",
    ")"
   ]
  },
  {
   "cell_type": "code",
   "execution_count": null,
   "metadata": {},
   "outputs": [
    {
     "name": "stdout",
     "output_type": "stream",
     "text": [
      "| Dataset  | 0: Sell | 1: Hold | 2: Buy |\n",
      "|----------|---------|---------|--------|\n",
      "| Test     |    0.78 |    0.00 |   0.22 |\n",
      "|----------|---------|---------|--------|\n",
      "0.5300480769230769\n"
     ]
    },
    {
     "data": {
      "image/png": "[encoded data removed]",
      "text/plain": [
       "<Figure size 640x480 with 1 Axes>"
      ]
     },
     "metadata": {},
     "output_type": "display_data"
    }
   ],
   "source": [
    "import matplotlib.pyplot as plt\n",
    "\n",
    "from src.dataset._dataset_utils import print_target_distribution\n",
    "\n",
    "print_target_distribution([(\"Test\", test_pred_dist)])\n",
    "\n",
    "print(test_acc)\n",
    "\n",
    "plt.plot(train_losses, label='Train Loss')\n",
    "plt.plot(valid_losses, label='Valid Loss')\n",
    "# Set y scale between 0.25 and 1.25\n",
    "plt.xlim(0, EPOCHS)\n",
    "plt.ylim(0.0, 2)\n",
    "plt.legend()\n",
    "plt.tight_layout()\n",
    "plt.show()\n",
    "plt.close()\n"
   ]
  }
 ],
 "metadata": {
  "kernelspec": {
   "display_name": "dl-group-project",
   "language": "python",
   "name": "python3"
  },
  "language_info": {
   "codemirror_mode": {
    "name": "ipython",
    "version": 3
   },
   "file_extension": ".py",
   "mimetype": "text/x-python",
   "name": "python",
   "nbconvert_exporter": "python",
   "pygments_lexer": "ipython3",
   "version": "3.12.7"
  }
 },
 "nbformat": 4,
 "nbformat_minor": 2
}
